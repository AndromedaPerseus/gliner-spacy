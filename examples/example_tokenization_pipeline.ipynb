{
 "cells": [
  {
   "cell_type": "code",
   "execution_count": 9,
   "metadata": {},
   "outputs": [],
   "source": [
    "import spacy\n",
    "from spacy.tokenizer import Tokenizer\n",
    "from gliner_spacy.pipeline import GlinerSpacy\n",
    "import re\n",
    "import os\n"
   ]
  },
  {
   "cell_type": "code",
   "execution_count": 4,
   "metadata": {},
   "outputs": [],
   "source": [
    "sentences = [\"Hello my world\", \"good morning my friend\", \"The color dark blue is a shade of standard blue\"]"
   ]
  },
  {
   "cell_type": "code",
   "execution_count": 5,
   "metadata": {},
   "outputs": [],
   "source": [
    "def preprocess_text(list_texts):\n",
    "    \n",
    "    custom_spacy_config = {\n",
    "    \"gliner_model\": \"urchade/gliner_small-v2.1\",\n",
    "    \"labels\": [\"Greetings\",\"Colors\",\"Adjectives\"],\n",
    "    \"style\": \"ent\",\n",
    "    \"threshold\": 0.3\n",
    "    }\n",
    "    \n",
    "    # Load the language model\n",
    "    nlp = spacy.blank(\"en\")\n",
    "    nlp.tokenizer = Tokenizer(nlp.vocab,token_match=re.compile(r'\\S+').match)\n",
    "    nlp.add_pipe(\"gliner_spacy\", config=custom_spacy_config)\n",
    "    docs = list(nlp.pipe(list_texts))\n",
    "    \n",
    "    return docs"
   ]
  },
  {
   "cell_type": "code",
   "execution_count": 7,
   "metadata": {},
   "outputs": [],
   "source": [
    "def split_entities(doc):\n",
    "    sentence = []\n",
    "    last_id = 0\n",
    "    for token in doc:\n",
    "        if (token.is_stop) & (token.ent_type == 0):\n",
    "            last_id = 0\n",
    "        else:\n",
    "            if (token.ent_type != 0) & (last_id == token.ent_type):\n",
    "                sentence[-1] = sentence[-1] + f\" {token.text}\"\n",
    "            else :\n",
    "                sentence.append(token.text)\n",
    "            last_id = token.ent_type\n",
    "    return sentence"
   ]
  },
  {
   "cell_type": "code",
   "execution_count": 10,
   "metadata": {},
   "outputs": [
    {
     "name": "stderr",
     "output_type": "stream",
     "text": [
      "/Users/THOMAS/PythonProjects/gliner-spacy/.venv/lib/python3.10/site-packages/transformers/convert_slow_tokenizer.py:560: UserWarning: The sentencepiece tokenizer that you are converting to a fast tokenizer uses the byte fallback option which is not implemented in the fast tokenizers. In practice this means that the fast version of the tokenizer can produce unknown tokens whereas the sentencepiece version would have converted these unknown tokens into a sequence of byte tokens matching the original piece of text.\n",
      "  warnings.warn(\n",
      "/Users/THOMAS/PythonProjects/gliner-spacy/.venv/lib/python3.10/site-packages/huggingface_hub/file_download.py:1132: FutureWarning: `resume_download` is deprecated and will be removed in version 1.0.0. Downloads always resume when possible. If you want to force a new download, use `force_download=True`.\n",
      "  warnings.warn(\n"
     ]
    }
   ],
   "source": [
    "docs = preprocess_text(sentences)\n",
    "sentences_processed = list(map(split_entities, docs))\n"
   ]
  },
  {
   "cell_type": "code",
   "execution_count": 9,
   "metadata": {},
   "outputs": [
    {
     "data": {
      "text/plain": [
       "[['Hello', 'world'],\n",
       " ['good morning', 'friend'],\n",
       " ['color', 'dark blue', 'shade', 'standard blue']]"
      ]
     },
     "execution_count": 9,
     "metadata": {},
     "output_type": "execute_result"
    }
   ],
   "source": [
    "sentences_processed"
   ]
  },
  {
   "cell_type": "code",
   "execution_count": null,
   "metadata": {},
   "outputs": [],
   "source": []
  },
  {
   "cell_type": "code",
   "execution_count": null,
   "metadata": {},
   "outputs": [],
   "source": []
  }
 ],
 "metadata": {
  "kernelspec": {
   "display_name": "Python 3",
   "language": "python",
   "name": "python3"
  },
  "language_info": {
   "codemirror_mode": {
    "name": "ipython",
    "version": 3
   },
   "file_extension": ".py",
   "mimetype": "text/x-python",
   "name": "python",
   "nbconvert_exporter": "python",
   "pygments_lexer": "ipython3",
   "version": "3.10.9"
  },
  "orig_nbformat": 4
 },
 "nbformat": 4,
 "nbformat_minor": 2
}
